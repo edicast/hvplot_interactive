{
 "cells": [
  {
   "cell_type": "markdown",
   "id": "040c997b",
   "metadata": {},
   "source": [
    "# The Easiest Way to Create an Interactive Dashboard in Python\n",
    "\n",
    "This notebook supports the blog post\n",
    "\n",
    "**The Easiest Way to Create an Interactive Dashboard in Python. Turn Pandas pipelines into a\n",
    "dashboard using hvplot `.interactive`**\n",
    "\n",
    "by *Sophia Yang* and *Marc Skov Madsen*.\n",
    "\n",
    "![Data App](assets/easy-dataframe-dashboards.gif)\n",
    "\n",
    "Source: https://github.com/sophiamyang/hvplot_interactive"
   ]
  },
  {
   "cell_type": "markdown",
   "id": "abf60b58",
   "metadata": {},
   "source": [
    "## Import and configure packages\n",
    "\n",
    "Please note that in **Colab** you will need to `!pip install panel hvplot`."
   ]
  },
  {
   "cell_type": "code",
   "execution_count": null,
   "id": "5cb553bf",
   "metadata": {},
   "outputs": [],
   "source": [
    "# !pip install panel==0.12.6 hvplot==0.7.3"
   ]
  },
  {
   "cell_type": "code",
   "execution_count": null,
   "id": "0f1112af",
   "metadata": {},
   "outputs": [],
   "source": [
    "import panel as pn\n",
    "\n",
    "pn.extension('tabulator', sizing_mode=\"stretch_width\")"
   ]
  },
  {
   "cell_type": "code",
   "execution_count": null,
   "id": "5adb11a6",
   "metadata": {},
   "outputs": [],
   "source": [
    "import hvplot.pandas\n",
    "import holoviews as hv\n",
    "\n",
    "hv.extension('bokeh')"
   ]
  },
  {
   "cell_type": "markdown",
   "id": "2db7ad42",
   "metadata": {},
   "source": [
    "## Define function to determine environment"
   ]
  },
  {
   "cell_type": "code",
   "execution_count": null,
   "id": "7196bce1",
   "metadata": {},
   "outputs": [],
   "source": [
    "def environment():\n",
    "    try:\n",
    "        get_ipython()\n",
    "        return \"notebook\"\n",
    "    except:\n",
    "        return \"server\"\n",
    "environment()"
   ]
  },
  {
   "cell_type": "markdown",
   "id": "ef4ccd06",
   "metadata": {},
   "source": [
    "## Define Color Palette"
   ]
  },
  {
   "cell_type": "code",
   "execution_count": null,
   "id": "ce8c5f82",
   "metadata": {},
   "outputs": [],
   "source": [
    "PALETTE = [\"#ff6f69\", \"#ffcc5c\", \"#88d8b0\", ]\n",
    "pn.Row(\n",
    "    pn.layout.HSpacer(height=50, background=PALETTE[0]),\n",
    "    pn.layout.HSpacer(height=50, background=PALETTE[1]),\n",
    "    pn.layout.HSpacer(height=50, background=PALETTE[2]),\n",
    ")"
   ]
  },
  {
   "cell_type": "markdown",
   "id": "7698a74c",
   "metadata": {},
   "source": [
    "## Load Data"
   ]
  },
  {
   "cell_type": "code",
   "execution_count": null,
   "id": "09d60a44",
   "metadata": {},
   "outputs": [],
   "source": [
    "from bokeh.sampledata.autompg import autompg_clean as df\n",
    "df.head()"
   ]
  },
  {
   "cell_type": "markdown",
   "id": "1bfed521",
   "metadata": {},
   "source": [
    "## Define DataFrame Pipeline"
   ]
  },
  {
   "cell_type": "code",
   "execution_count": null,
   "id": "4a42b6e5",
   "metadata": {},
   "outputs": [],
   "source": [
    "(\n",
    "    df[\n",
    "        (df.cyl == 4) & \n",
    "        (df.mfr.isin(['ford','chevrolet']))\n",
    "    ]\n",
    "    .groupby(['origin', 'cyl', 'mfr', 'yr'])['hp'].mean()\n",
    "    .to_frame()\n",
    "    .reset_index()\n",
    "    .sort_values(by='yr')\n",
    ").head(1)"
   ]
  },
  {
   "cell_type": "markdown",
   "id": "f928f0ba",
   "metadata": {},
   "source": [
    "## Make DataFrame Pipeline Interactive"
   ]
  },
  {
   "cell_type": "code",
   "execution_count": null,
   "id": "6e12aa62",
   "metadata": {},
   "outputs": [],
   "source": [
    "idf = df.interactive()"
   ]
  },
  {
   "cell_type": "markdown",
   "id": "835b20da",
   "metadata": {},
   "source": [
    "Define [Panel widgets](https://panel.holoviz.org/reference/index.html#widgets)"
   ]
  },
  {
   "cell_type": "code",
   "execution_count": null,
   "id": "956fa985",
   "metadata": {},
   "outputs": [],
   "source": [
    "shared_cylinders_widget = pn.widgets.IntSlider(name='Cylinders (Shared)', start=4, end=8, step=2, value=4)\n"
   ]
  },
  {
   "cell_type": "markdown",
   "id": "743aa619",
   "metadata": {},
   "source": [
    "Combine pipeline and widgets"
   ]
  },
  {
   "cell_type": "markdown",
   "id": "bff77abf",
   "metadata": {},
   "source": [
    "## Pipe to Table"
   ]
  },
  {
   "cell_type": "markdown",
   "id": "b21344a1",
   "metadata": {},
   "source": [
    "Check out the [Tabulator Reference Guide](https://panel.holoviz.org/reference/widgets/Tabulator.html) for more inspiration."
   ]
  },
  {
   "cell_type": "markdown",
   "id": "246398c8",
   "metadata": {},
   "source": [
    "## Pipe to hvplot"
   ]
  },
  {
   "cell_type": "markdown",
   "id": "345db224",
   "metadata": {},
   "source": [
    "## Layout using Template\n",
    "\n",
    "Here we use the [FastListTemplate](https://panel.holoviz.org/reference/templates/FastListTemplate.html#templates-gallery-fastlisttemplate)."
   ]
  },
  {
   "cell_type": "code",
   "execution_count": null,
   "id": "da58a1a5",
   "metadata": {},
   "outputs": [],
   "source": [
    "from dashboard_components import InteractiveDashboard"
   ]
  },
  {
   "cell_type": "code",
   "execution_count": null,
   "id": "d224e0e7",
   "metadata": {},
   "outputs": [],
   "source": [
    "# --- 3. NUEVO: Crear un panel de solo lectura para mostrar el valor de los cilindros ---\n",
    "# Esta función se ejecutará cada vez que shared_cylinders_widget.value cambie\n",
    "@pn.depends(shared_cylinders_widget.param.value)\n",
    "def display_selected_cylinders(current_cylinders_value):\n",
    "    return f\"**Cilindros Seleccionados Globalmente: {current_cylinders_value}**\"\n",
    "\n",
    "# Crear el panel Markdown que se actualizará reactivamente\n",
    "selected_cylinders_readout_pane = pn.pane.Markdown(display_selected_cylinders)\n",
    "\n",
    "# Fila para este panel de solo lectura, para colocarlo en la parte superior del área principal\n",
    "top_info_row = pn.Row(selected_cylinders_readout_pane, sizing_mode='stretch_width')\n",
    "\n",
    "\n",
    "unique_mfrs = sorted(list(df['mfr'].unique()))\n",
    "unique_origins = sorted(list(df['origin'].unique()))\n",
    "\n",
    "# Configuración para el Dashboard 1 (replicando el filtro mfr anterior)\n",
    "filter_config1 = [\n",
    "    {'type': 'multiselect', 'column': 'mfr', 'label': 'Fabricantes', \n",
    "     'options': unique_mfrs, 'default_value': unique_mfrs},\n",
    "    # Puedes añadir más filtros aquí, por ejemplo un filtro de texto para 'name':\n",
    "    {'type': 'text_filter', 'column': 'origin', 'label': 'Buscar Nombre origen'}\n",
    "]\n",
    "\n",
    "y_options_set1 = ['hp', 'weight']\n",
    "\n",
    "dashboard1 = InteractiveDashboard(\n",
    "    interactive_dataframe=idf,\n",
    "    cylinders_widget_from_notebook=shared_cylinders_widget,\n",
    "    yaxis_options_list=y_options_set1,\n",
    "    filter_config_list=filter_config1,\n",
    "    initial_plot_type='line'  # <--- Especifica el tipo de gráfica inicial\n",
    ").get_view()"
   ]
  },
  {
   "cell_type": "code",
   "execution_count": null,
   "id": "8636168e",
   "metadata": {},
   "outputs": [],
   "source": [
    "filter_config2 = [\n",
    "    {'type': 'multiselect', 'column': 'origin', 'label': 'Origen', \n",
    "     'options': unique_origins, 'default_value': unique_origins},\n",
    "    {'type': 'text_filter', 'column': 'name', 'label': 'Buscar Nombre Coche'}\n",
    "]\n",
    "\n",
    "y_options_set2 = ['hp', 'weight'] \n",
    "dashboard2 = InteractiveDashboard(\n",
    "    interactive_dataframe=idf,\n",
    "    cylinders_widget_from_notebook=shared_cylinders_widget,\n",
    "    yaxis_options_list=y_options_set2,\n",
    "    filter_config_list=filter_config2,\n",
    "    initial_plot_type='stacked_line' # <--- Diferente tipo de gráfica inicial\n",
    ").get_view()"
   ]
  },
  {
   "cell_type": "code",
   "execution_count": null,
   "id": "179edaee",
   "metadata": {},
   "outputs": [],
   "source": [
    "filter_config3 = [\n",
    "    {'type': 'multiselect', 'column': 'origin', 'label': 'Origen', \n",
    "     'options': unique_origins, 'default_value': unique_origins},\n",
    "    {'type': 'text_filter', 'column': 'name', 'label': 'Buscar Nombre Coche'}\n",
    "]\n",
    "y_options_set3 = ['hp', 'weight'] \n",
    "dashboard3 = InteractiveDashboard(\n",
    "    interactive_dataframe=idf,\n",
    "    cylinders_widget_from_notebook=shared_cylinders_widget,\n",
    "    yaxis_options_list=y_options_set3,\n",
    "    filter_config_list=filter_config3, # Asume que filter_config3 está definido\n",
    "    initial_plot_type='bar' # <--- Diferente tipo de gráfica inicial\n",
    ").get_view()"
   ]
  },
  {
   "cell_type": "code",
   "execution_count": null,
   "id": "a4d194d5",
   "metadata": {},
   "outputs": [],
   "source": [
    "filter_config4 = [\n",
    "    {'type': 'multiselect', 'column': 'origin', 'label': 'Origen', \n",
    "     'options': unique_origins, 'default_value': unique_origins},\n",
    "    {'type': 'text_filter', 'column': 'name', 'label': 'Buscar Nombre Coche'}\n",
    "]\n",
    "\n",
    "y_axis_options4 = ['hp', 'weight'] \n",
    "dashboard4 = InteractiveDashboard(\n",
    "    interactive_dataframe=idf,\n",
    "    cylinders_widget_from_notebook=shared_cylinders_widget,\n",
    "    yaxis_options_list=y_axis_options4,\n",
    "    filter_config_list=filter_config4, # Asume que filter_config4 está definido\n",
    "    initial_plot_type='stacked_bar' # <--- Diferente tipo de gráfica inicial\n",
    ").get_view()"
   ]
  },
  {
   "cell_type": "code",
   "execution_count": null,
   "id": "05d445eb",
   "metadata": {},
   "outputs": [],
   "source": [
    "\n",
    "# --- 1. Template Global para toda la página ---\n",
    "page_template = pn.template.FastListTemplate(\n",
    "    title='Multi-Dashboard con Sidebar Global',\n",
    "    sidebar_width=250, # Ajusta según necesites\n",
    "    accent_base_color=\"#88d8b0\",\n",
    "    header_background=\"#88d8b0\",\n",
    ")\n",
    "\n",
    "page_template.sidebar.append(shared_cylinders_widget)\n",
    "\n",
    "# --- 4. Organizar los dashboards en una cuadrícula 2x2 ---\n",
    "# (Puedes ajustar el sizing_mode de las filas y columnas para que se adapten mejor)\n",
    "grid_of_dashboards = pn.Column(\n",
    "    pn.Row(dashboard1, sizing_mode='stretch_width'),\n",
    "    #pn.Row(dashboard3, dashboard4, sizing_mode='stretch_width'),\n",
    "    sizing_mode='stretch_width' \n",
    ")\n",
    "\n",
    "# --- 5. Añadir la cuadrícula al área 'main' del template global ---\n",
    "page_template.main.append(top_info_row)\n",
    "page_template.main.append(grid_of_dashboards)\n",
    "\n",
    "# --- 6. Hacer servible el Template Global ---\n",
    "page_template.servable()"
   ]
  }
 ],
 "metadata": {
  "kernelspec": {
   "display_name": "Python 3 (ipykernel)",
   "language": "python",
   "name": "python3"
  },
  "language_info": {
   "codemirror_mode": {
    "name": "ipython",
    "version": 3
   },
   "file_extension": ".py",
   "mimetype": "text/x-python",
   "name": "python",
   "nbconvert_exporter": "python",
   "pygments_lexer": "ipython3",
   "version": "3.10.2"
  }
 },
 "nbformat": 4,
 "nbformat_minor": 5
}
